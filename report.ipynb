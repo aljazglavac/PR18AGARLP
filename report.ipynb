{
 "cells": [
  {
   "cell_type": "markdown",
   "metadata": {},
   "source": [
    "# Analiza prvo registriranih vozil od leta 2015 do 2017 - PR2018AGARLP #\n",
    "\n",
    "### Avtorji ###\n",
    "\n",
    "* Aljaž Glavač\n",
    "* Andraž Raspor\n",
    "* Luka Perovič\n",
    "\n",
    "## Predstavitev podatkov ##\n",
    "\n",
    "Množica podatkov nad katero bomo opravljali raziskave in ugotavljali kakšne vplive imajo določeni atributi na druge, smo našli na spletni strani www.podatki.gov.si. Na omenjeni spletni strani so različni statistični podatki zbrani iz Slovenije, kar je tudi razlog, da smo se odločili uporabljati te podatke oz. množico podatkov.\n",
    "\n",
    "Naša množica sestoji iz podatkov o prvič registriranih vozilih v Sloveniji. Podatki so razdeljeni po mescih in so dostopni za od leta 2012 do 2017.\n",
    "\n",
    "Za to množico podatkov smo se odločili saj se nam je zdela zelo zanimiva za ugotavljanje trendov, kakšne avtomobile slovenci kupujejo, ter druge lastnosti o posameznikovi izbiri avtomobila.\n",
    "\n",
    "Pri izbiri podatkovne množice smo gledali tudi na to, da vsebuje dovolj podatkov za opazovanje. Našli smo veliko drugih podatkov, ki bi bolj ustrezali naši stroki, kot na primer; različna uporaba interneta v slovenskih gospodnistvih, vendar so bile take množice zelo majhne. Pri tako majhni količini podatkov bi bili zagotovo omejeni glede raziskave.\n",
    "\n",
    "Podatki, ki smo jih prenesli, niso bili ravno pravilno oblikovani ter urejeni. Velikokorat se je zgodilo da so bile vrednosti v stoplih zamaknjene, različne uporabe tipa zapisa podatkov(zaradi katere veliko vrednosti ni bilo mogoče seštevati), različni zapisi decimalne vejice(enkrat \",\" drugič \".\") in druge napake. Poskusili smo odpraviti čim več takšnih napak, vendar nam le teh ni uspelo v popolnosti odpraviti oz. poprabiti.\n",
    "\n",
    "## Predstavitev hipotez, ugotovitev in grafov ##\n",
    "\n",
    "### V poletnem obdobju je registriranih največ vozil katera za delovanje uporabljajo gorivo tipa mešanica\n",
    "\n",
    "To smo dokazali z naslednjimi tremi grafi kateri prikazujejo za vsako leto posebej (2015, 2016, 2017), po mesech števila registracij vozil katera za obratovanje uporabljajo gorivo tipa mešanica. Iz grafa je lepo razvidno da bolj kot se bliža poletje ali bolj kot se ozračje segreva, več je takih registracij. Iz tega lahko dobimo zaključek da je to zato kej veliko ljudi registrira svoja motorna kolesa ravno kadar nastopijo topli dnevi.\n",
    "\n",
    "Leta 2015 in 2016 imasta zelo podobne grafe, oba imasta isto obliko ter največja vrednost nepreseže 200 registriranih vozil. Kar je pa zelo čudno je leto 2017, kjer vidimo da graf pri poletnih mesecih ponori. Razloga za to nažalost nismo našli, vendar sklepamo da je kriva naša množica podatkov ter napačno vnašanje podatkov vanjo. Vrednosti v drugih mesecih niso tako nenavadne.\n",
    "\n",
    "Na kratko, motorna kolesa kot so skuterji, se uporabljajo v večini poleti, in zato je takrat največ takih registracij.\n",
    "\n",
    "![Mesanica2015](images/mesanica2105.png) ![Mesanica2016](images/mesanica2016.png) ![Mesanica2017](images/mesanica2017.png)\n",
    "***\n",
    "\n",
    "### Prikaz štavila registriranih vozil v letu 2015, urejenih po tipu goriva\n",
    "\n",
    "Kot je iz grafa razvidno, največ novo registriranih prevoznih sredstev uporablja dizel, na drugem mestu je bencin, in tako naprej. Ostala goriva kot so; naftni plin, kombinirana goriva in zemeljski plin, so tako redka, da se jih na grafu niti ne vidi. Pozitivno opažanje iz grafa je to, da so vozila na električni pogoj na tretjem mestu, kar je dobro za naš planet. Vendar sta nafta in bencin kar krepko pred elektriko.\n",
    "\n",
    "![Goriva](images/goriva.png)\n",
    "***\n",
    "\n",
    "### V večjih mestih registrirajo krajše ali ožje avtomobile kot v manjših mestih zaradi parkirnih mesti ter ožjih ulic\n",
    "\n",
    "Za to hipotezo oziroma trditev, smo dobili idejo med tem ko sem bil na dopustu v Trstu, kator je zelo veliko mesto ter imajo majne ulice in majna parkirna mesta. Ko sem opazoval avtomobile sem opazil da imajo v povprečju krajše in mogoče tudi ožje avtomobile kot drugje po Italiji. Zato me je zanimalo ali to velja tudi v Sloveniji, na primer v Ljubljani in Postojni.\n",
    "\n",
    "Da pri izračunu povprečnih vrednosti nebi upoštevali motorjev, ter drugih vozil katera niso avtomobili, smo sestavili masko katera v seštevek vzame samo vozila katera so različni tipi avtomobilov. To smo dosegli z filtriranjem po stoplcu \"Oblika nadgradnje\".\n",
    "\n",
    "Kot je razvidno iz grafov razlike med dolžino avtomobilov v dveh omenjenih mestih ni, zato smo to hipotezo ovrgli. Sklepamo da je to zaradi tega ker se velikost Ljubljane sploh nemore primerjati z velikostjo Trsta. In pa tudi zato ker v centru Ljubljane živi zelo malo ljudi in je ta tudi zaprt za vozila. Kar je drugače kot v Trstu kjer je center odprt za avtomobile in v njem živi veliko ljudi.\n",
    "\n",
    "Na grafu, ki prikazuje razmerje med širino avtomobilov v Ljubljani in Postojni, vidimo da se je šele leta 2017 razmerje izravnalo. Prejšnja leta so v Postojni registrirali vidno ožje avtomobile, vendar se je to od leta 2015 do 2017 zvečalo. Razloga za ta pojav nismo našli, možno da je prišlo do tega zaradi napačnih zapi\n",
    "\n",
    "Iz obeh grafov lahko razberemo tudi povprečno dolžino in širino novo registriranih vozil. Hipotezo za širino ter dolžino avtov smo ovrgli.\n",
    "\n",
    "![Sirina](images/LJPOsirina.png) ![Dolzina](images/LJPOdolzina.png)\n",
    "***"
   ]
  }
 ],
 "metadata": {
  "kernelspec": {
   "display_name": "Python 3",
   "language": "python",
   "name": "python3"
  },
  "language_info": {
   "codemirror_mode": {
    "name": "ipython",
    "version": 3
   },
   "file_extension": ".py",
   "mimetype": "text/x-python",
   "name": "python",
   "nbconvert_exporter": "python",
   "pygments_lexer": "ipython3",
   "version": "3.6.4"
  }
 },
 "nbformat": 4,
 "nbformat_minor": 2
}
