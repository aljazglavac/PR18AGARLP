{
 "cells": [
  {
   "cell_type": "code",
   "execution_count": 2,
   "metadata": {},
   "outputs": [],
   "source": [
    "# IMPORT\n",
    "import pandas as pd\n",
    "import numpy as np\n",
    "import matplotlib.pyplot as plt\n",
    "from collections import defaultdict"
   ]
  },
  {
   "cell_type": "code",
   "execution_count": 3,
   "metadata": {},
   "outputs": [],
   "source": [
    "stolpci = [0, 1, 4, 5, 6, 9, 10, 11, 12, 13, 14, 15, 16, 17, 18, 19, 20, 23, 24, 31, 32, 33, 47, 48, 49, 58, 59, 60, 65, 83, 89, 90, 91, 99, 100]\n",
    "mesec = ['Januar', 'Februar', 'Marec', 'April', 'Maj', 'Junij', 'Julij', 'Avgust', 'September', 'Oktober', 'November', 'December']"
   ]
  },
  {
   "cell_type": "code",
   "execution_count": 65,
   "metadata": {},
   "outputs": [],
   "source": [
    "tipi = {'C1.3-Upravna enota uporabnika vozila (opis)': str,\n",
    "        'C1.3-Obcina uporabnika vozila (oznaka)': str,\n",
    "       'C1.3-Obcina uporabnika vozila (opis)': str,\n",
    "       'C2-Starost lastnika vozila': float,\n",
    "       'C2-Ali je lastnik pravna ali fizicna oseba': str,\n",
    "       'C2-Spol lastnika (ce gre za fizicno osebo)': str,\n",
    "        'D.1-Znamka': str,\n",
    "        'D.4.2-Drzava (opis)': str,\n",
    "        'D.4.2-Drzava (koda)': str,\n",
    "        'G-Masa vozila': float}"
   ]
  },
  {
   "cell_type": "code",
   "execution_count": 71,
   "metadata": {},
   "outputs": [],
   "source": [
    "df1501 = pd.read_csv(\"../data/2015/NPodatki_012015.csv\", usecols=stolpci)\n",
    "df1502 = pd.read_csv(\"../data/2015/NPodatki_022015.csv\", usecols=stolpci)\n",
    "df1503 = pd.read_csv(\"../data/2015/NPodatki_032015.csv\", usecols=stolpci)\n",
    "df1504 = pd.read_csv(\"../data/2015/NPodatki_042015.csv\", usecols=stolpci)\n",
    "df1505 = pd.read_csv(\"../data/2015/NPodatki_052015.csv\", usecols=stolpci)\n",
    "df1506 = pd.read_csv(\"../data/2015/NPodatki_062015.csv\", usecols=stolpci)\n",
    "df1507 = pd.read_csv(\"../data/2015/NPodatki_072015.csv\", usecols=stolpci)\n",
    "df1508 = pd.read_csv(\"../data/2015/NPodatki_082015.csv\", usecols=stolpci)\n",
    "df1509 = pd.read_csv(\"../data/2015/NPodatki_092015.csv\", usecols=stolpci)\n",
    "df1510 = pd.read_csv(\"../data/2015/NPodatki_102015.csv\", usecols=stolpci)\n",
    "df1511 = pd.read_csv(\"../data/2015/NPodatki_112015.csv\", usecols=stolpci)\n",
    "df1512 = pd.read_csv(\"../data/2015/NPodatki_122015.csv\", usecols=stolpci)\n",
    "df15 = [df1501, df1502, df1503, df1504, df1505, df1506, df1507, df1508, df1509, df1510, df1511, df1512]"
   ]
  },
  {
   "cell_type": "code",
   "execution_count": 72,
   "metadata": {
    "scrolled": true
   },
   "outputs": [
    {
     "name": "stderr",
     "output_type": "stream",
     "text": [
      "E:\\Anaconda3\\lib\\site-packages\\IPython\\core\\interactiveshell.py:2728: DtypeWarning: Columns (4) have mixed types. Specify dtype option on import or set low_memory=False.\n",
      "  interactivity=interactivity, compiler=compiler, result=result)\n"
     ]
    }
   ],
   "source": [
    "df1601 = pd.read_csv(\"../data/2016/NPodatki_012016.csv\", usecols=stolpci)\n",
    "df1602 = pd.read_csv(\"../data/2016/NPodatki_022016.csv\", usecols=stolpci)\n",
    "df1603 = pd.read_csv(\"../data/2016/N2Podatki_032016.csv\", usecols=stolpci)\n",
    "df1604 = pd.read_csv(\"../data/2016/NPodatki_042016.csv\", usecols=stolpci)\n",
    "df1605 = pd.read_csv(\"../data/2016/NPodatki_052016.csv\", usecols=stolpci)\n",
    "df1606 = pd.read_csv(\"../data/2016/NPodatki_062016.csv\", usecols=stolpci)\n",
    "df1607 = pd.read_csv(\"../data/2016/NPodatki_072016.csv\", usecols=stolpci)\n",
    "df1608 = pd.read_csv(\"../data/2016/NPodatki_082016.csv\", usecols=stolpci)\n",
    "df1609 = pd.read_csv(\"../data/2016/NPodatki_092016.csv\", usecols=stolpci)\n",
    "df1610 = pd.read_csv(\"../data/2016/NPodatki_102016.csv\", usecols=stolpci)\n",
    "df1611 = pd.read_csv(\"../data/2016/NPodatki_112016.csv\", usecols=stolpci)\n",
    "df1612 = pd.read_csv(\"../data/2016/NPodatki_122016.csv\", usecols=stolpci)\n",
    "df16 = [df1601, df1602, df1603, df1604, df1605, df1606, df1607, df1608, df1609, df1610, df1611, df1612] # missing df1610"
   ]
  },
  {
   "cell_type": "code",
   "execution_count": 73,
   "metadata": {},
   "outputs": [
    {
     "name": "stderr",
     "output_type": "stream",
     "text": [
      "E:\\Anaconda3\\lib\\site-packages\\IPython\\core\\interactiveshell.py:2728: DtypeWarning: Columns (15,17,31,47,83,91) have mixed types. Specify dtype option on import or set low_memory=False.\n",
      "  interactivity=interactivity, compiler=compiler, result=result)\n"
     ]
    }
   ],
   "source": [
    "df1701 = pd.read_csv(\"../data/2017/Podatki_012017.csv\", usecols=stolpci)\n",
    "df1702 = pd.read_csv(\"../data/2017/Podatki_022017.csv\", usecols=stolpci)\n",
    "df1703 = pd.read_csv(\"../data/2017/Podatki_032017.csv\", usecols=stolpci)\n",
    "df1704 = pd.read_csv(\"../data/2017/Podatki_042017.csv\", usecols=stolpci)\n",
    "df1705 = pd.read_csv(\"../data/2017/Podatki_052017.csv\", usecols=stolpci)\n",
    "df1706 = pd.read_csv(\"../data/2017/Podatki_062017.csv\", usecols=stolpci)\n",
    "df1707 = pd.read_csv(\"../data/2017/Podatki_072017.csv\", usecols=stolpci)\n",
    "df1708 = pd.read_csv(\"../data/2017/Podatki_082017.csv\", usecols=stolpci)\n",
    "df1709 = pd.read_csv(\"../data/2017/Podatki_092017.csv\", usecols=stolpci)\n",
    "df1710 = pd.read_csv(\"../data/2017/Podatki_102017.csv\", usecols=stolpci)\n",
    "df1711 = pd.read_csv(\"../data/2017/Podatki_112017.csv\", usecols=stolpci)\n",
    "df1712 = pd.read_csv(\"../data/2017/Podatki_122017.csv\", usecols=stolpci)\n",
    "df17 = [df1701, df1702, df1703, df1704, df1705, df1706, df1707, df1708, df1709, df1710, df1711, df1712]"
   ]
  },
  {
   "cell_type": "code",
   "execution_count": 60,
   "metadata": {},
   "outputs": [
    {
     "data": {
      "text/plain": [
       "10"
      ]
     },
     "execution_count": 60,
     "metadata": {},
     "output_type": "execute_result"
    }
   ],
   "source": []
  },
  {
   "cell_type": "code",
   "execution_count": 40,
   "metadata": {},
   "outputs": [
    {
     "name": "stdout",
     "output_type": "stream",
     "text": [
      "Najbolj popularne leta 2016\n",
      "1. navaden - BELA - SREDNJA s 19784 avti.\n",
      "2. kovinski - SIVA - SVETLA s 14220 avti.\n",
      "3. kovinski - SIVA - TEMNA s 11508 avti.\n"
     ]
    }
   ],
   "source": [
    "# prve tri najbolj popularne barve vozila v letu 2015\n",
    "barve16 = defaultdict(int)\n",
    "import operator\n",
    "for data in df16:\n",
    "    values = data['R-Barva vozila (opis)'].value_counts().keys().tolist()\n",
    "    counts = data['R-Barva vozila (opis)'].value_counts().tolist()\n",
    "    for barva, stevilo in zip(values,counts):\n",
    "        barve16[barva] += stevilo\n",
    "\n",
    "barve16 = sorted(barve16.items(), key=operator.itemgetter(1))\n",
    "barve16.reverse()\n",
    "\n",
    "print(\"Najbolj popularne leta 2016\")\n",
    "for i, terka in enumerate(barve16):\n",
    "    if i == 3:\n",
    "        break;\n",
    "    else:\n",
    "        print(str(i+1) + \". \" + terka[0] + \" s \" + str(terka[1]) + \" avti.\")"
   ]
  }
 ],
 "metadata": {
  "kernelspec": {
   "display_name": "Python 3",
   "language": "python",
   "name": "python3"
  },
  "language_info": {
   "codemirror_mode": {
    "name": "ipython",
    "version": 3
   },
   "file_extension": ".py",
   "mimetype": "text/x-python",
   "name": "python",
   "nbconvert_exporter": "python",
   "pygments_lexer": "ipython3",
   "version": "3.6.4"
  }
 },
 "nbformat": 4,
 "nbformat_minor": 2
}
