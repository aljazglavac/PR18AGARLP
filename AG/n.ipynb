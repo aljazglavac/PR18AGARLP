{
 "cells": [
  {
   "cell_type": "code",
   "execution_count": 17,
   "metadata": {},
   "outputs": [],
   "source": [
    "# IMPORT\n",
    "import pandas as pd\n",
    "import numpy as np\n",
    "import matplotlib.pyplot as plt\n",
    "from collections import defaultdict\n",
    "# SETTINGS\n",
    "pd.options.display.max_columns = None\n",
    "# NAMING\n",
    "# dfxxyy - dataframe[df] - leto[xx] - mesec[yy]"
   ]
  },
  {
   "cell_type": "code",
   "execution_count": 3,
   "metadata": {},
   "outputs": [],
   "source": [
    "# OPEN FILES AND PREPARE DATA 2015\n",
    "stolpci = [0, 1, 4, 5, 6, 9, 10, 11, 12, 13, 14, 15, 16, 17, 18, 19, 20, 23, 24, 31, 32, 33, 47, 48, 49, 58, 59, 60, 65, 83, 89, 90, 91, 99, 100]\n",
    "mesec = ['Januar', 'Februar', 'Marec', 'April', 'Maj', 'Junij', 'Julij', 'Avgust', 'September', 'Oktober', 'November', 'December']\n",
    "df1501 = pd.read_csv(\"../data/2015/NPodatki_012015.csv\", sep=';', encoding = 'latin1', dtype='str', usecols=stolpci)\n",
    "df1502 = pd.read_csv(\"../data/2015/NPodatki_022015.csv\", sep=';', encoding = 'latin1', dtype='str', usecols=stolpci)\n",
    "df1503 = pd.read_csv(\"../data/2015/NPodatki_032015.csv\", sep=';', encoding = 'latin1', dtype='str', usecols=stolpci)\n",
    "df1504 = pd.read_csv(\"../data/2015/NPodatki_042015.csv\", sep=';', encoding = 'latin1', dtype='str', usecols=stolpci)\n",
    "df1505 = pd.read_csv(\"../data/2015/NPodatki_052015.csv\", sep=';', encoding = 'latin1', dtype='str', usecols=stolpci)\n",
    "df1506 = pd.read_csv(\"../data/2015/NPodatki_062015.csv\", sep=';', encoding = 'latin1', dtype='str', usecols=stolpci)\n",
    "df1507 = pd.read_csv(\"../data/2015/NPodatki_072015.csv\", sep=';', encoding = 'latin1', dtype='str', usecols=stolpci)\n",
    "df1508 = pd.read_csv(\"../data/2015/NPodatki_082015.csv\", sep=';', encoding = 'latin1', dtype='str', usecols=stolpci)\n",
    "df1509 = pd.read_csv(\"../data/2015/NPodatki_092015.csv\", sep=';', encoding = 'latin1', dtype='str', usecols=stolpci)\n",
    "df1510 = pd.read_csv(\"../data/2015/NPodatki_102015.csv\", sep=';', encoding = 'latin1', dtype='str', usecols=stolpci)\n",
    "df1511 = pd.read_csv(\"../data/2015/NPodatki_112015.csv\", sep=';', encoding = 'latin1', dtype='str', usecols=stolpci)\n",
    "df1512 = pd.read_csv(\"../data/2015/NPodatki_122015.csv\", sep=';', encoding = 'latin1', dtype='str', usecols=stolpci)\n",
    "df15 = [df1501, df1502, df1503, df1504, df1505, df1506, df1507, df1508, df1509, df1510, df1511, df1512]"
   ]
  },
  {
   "cell_type": "code",
   "execution_count": 7,
   "metadata": {
    "scrolled": true
   },
   "outputs": [],
   "source": [
    "# OPEN FILES AND PREPARE DATA 2016\n",
    "stolpci = [0, 1, 4, 5, 6, 9, 10, 11, 12, 13, 14, 15, 16, 17, 18, 19, 20, 23, 24, 31, 32, 33, 47, 48, 49, 58, 59, 60, 65, 83, 89, 90, 91, 99, 100]\n",
    "mesec = ['Januar', 'Februar', 'Marec', 'April', 'Maj', 'Junij', 'Julij', 'Avgust', 'September', 'Oktober', 'November', 'December']\n",
    "df1601 = pd.read_csv(\"../data/2016/NPodatki_012016.csv\", sep=';', encoding = 'latin1', dtype='str', usecols=stolpci)\n",
    "df1602 = pd.read_csv(\"../data/2016/NPodatki_022016.csv\", sep=';', encoding = 'latin1', dtype='str', usecols=stolpci)\n",
    "df1603 = pd.read_csv(\"../data/2016/N2Podatki_032016.csv\", sep=';', encoding = 'latin1', dtype='str', usecols=stolpci)\n",
    "df1604 = pd.read_csv(\"../data/2016/NPodatki_042016.csv\", sep=';', encoding = 'latin1', dtype='str', usecols=stolpci)\n",
    "df1605 = pd.read_csv(\"../data/2016/NPodatki_052016.csv\", sep=';', encoding = 'latin1', dtype='str', usecols=stolpci)\n",
    "df1606 = pd.read_csv(\"../data/2016/NPodatki_062016.csv\", sep=';', encoding = 'latin1', dtype='str', usecols=stolpci)\n",
    "df1607 = pd.read_csv(\"../data/2016/NPodatki_072016.csv\", sep=';', encoding = 'latin1', dtype='str', usecols=stolpci)\n",
    "df1608 = pd.read_csv(\"../data/2016/NPodatki_082016.csv\", sep=';', encoding = 'latin1', dtype='str', usecols=stolpci)\n",
    "df1609 = pd.read_csv(\"../data/2016/NPodatki_092016.csv\", sep=';', encoding = 'latin1', dtype='str', usecols=stolpci)\n",
    "#df1610 = pd.read_csv(\"../data/2016/NPodatki_102016.csv\", sep=';', encoding = 'latin1', dtype='str', usecols=stolpci)\n",
    "df1611 = pd.read_csv(\"../data/2016/NPodatki_112016.csv\", sep=';', encoding = 'latin1', dtype='str', usecols=stolpci)\n",
    "df1612 = pd.read_csv(\"../data/2016/NPodatki_122016.csv\", sep=';', encoding = 'latin1', dtype='str', usecols=stolpci)\n",
    "df16 = [df1601, df1602, df1603, df1604, df1605, df1606, df1607, df1608, df1609, df1611, df1612] # missing df1610"
   ]
  },
  {
   "cell_type": "code",
   "execution_count": 5,
   "metadata": {},
   "outputs": [],
   "source": [
    "# OPEN FILES AND PREPARE DATA 2017\n",
    "stolpci = [0, 1, 4, 5, 6, 9, 10, 11, 12, 13, 14, 15, 16, 17, 18, 19, 20, 23, 24, 31, 32, 33, 47, 48, 49, 58, 59, 60, 65, 83, 89, 90, 91, 99, 100]\n",
    "mesec = ['Januar', 'Februar', 'Marec', 'April', 'Maj', 'Junij', 'Julij', 'Avgust', 'September', 'Oktober', 'November', 'December']\n",
    "df1701 = pd.read_csv(\"../data/2017/Podatki_012017.csv\", sep=';', encoding = 'latin1', dtype='str', usecols=stolpci)\n",
    "df1702 = pd.read_csv(\"../data/2017/Podatki_022017.csv\", sep=';', encoding = 'latin1', dtype='str', usecols=stolpci)\n",
    "df1703 = pd.read_csv(\"../data/2017/Podatki_032017.csv\", sep=';', encoding = 'latin1', dtype='str', usecols=stolpci)\n",
    "df1704 = pd.read_csv(\"../data/2017/Podatki_042017.csv\", sep=';', encoding = 'latin1', dtype='str', usecols=stolpci)\n",
    "df1705 = pd.read_csv(\"../data/2017/Podatki_052017.csv\", sep=';', encoding = 'latin1', dtype='str', usecols=stolpci)\n",
    "df1706 = pd.read_csv(\"../data/2017/Podatki_062017.csv\", sep=';', encoding = 'latin1', dtype='str', usecols=stolpci)\n",
    "df1707 = pd.read_csv(\"../data/2017/Podatki_072017.csv\", sep=';', encoding = 'latin1', dtype='str', usecols=stolpci)\n",
    "df1708 = pd.read_csv(\"../data/2017/Podatki_082017.csv\", sep=';', encoding = 'latin1', dtype='str', usecols=stolpci)\n",
    "df1709 = pd.read_csv(\"../data/2017/Podatki_092017.csv\", sep=';', encoding = 'latin1', dtype='str', usecols=stolpci)\n",
    "df1710 = pd.read_csv(\"../data/2017/Podatki_102017.csv\", sep=';', encoding = 'latin1', dtype='str', usecols=stolpci)\n",
    "df1711 = pd.read_csv(\"../data/2017/Podatki_112017.csv\", sep=';', encoding = 'latin1', dtype='str', usecols=stolpci)\n",
    "df1712 = pd.read_csv(\"../data/2017/Podatki_122017.csv\", sep=';', encoding = 'latin1', dtype='str', usecols=stolpci)\n",
    "df17 = [df1701, df1702, df1703, df1704, df1705, df1706, df1707, df1708, df1709, df1710, df1711, df1712]"
   ]
  },
  {
   "cell_type": "code",
   "execution_count": 52,
   "metadata": {},
   "outputs": [
    {
     "name": "stdout",
     "output_type": "stream",
     "text": [
      "najbolj popularne 3\n",
      "navaden - BELA - SREDNJA 17401\n",
      "kovinski - SIVA - SVETLA 12992\n",
      "kovinski - SIVA - TEMNA 9746\n",
      "najmanj popularne 3\n",
      "navaden - VIJOLIÈNA - SVETLA 4\n",
      "navaden - VIJOLIÈNA - TEMNA 15\n",
      "navaden - VIJOLIÈNA - SREDNJA 16\n"
     ]
    }
   ],
   "source": [
    "# prve tri najbolj popularne barve vozila v letu 2015\n",
    "barve15 = defaultdict(int)\n",
    "import operator\n",
    "for data in df15:\n",
    "    values = data['R-Barva vozila (opis)'].value_counts().keys().tolist()\n",
    "    counts = data['R-Barva vozila (opis)'].value_counts().tolist()\n",
    "    for barva, stevilo in zip(values,counts):\n",
    "        barve15[barva] += stevilo\n",
    "\n",
    "barve15 = sorted(barve15.items(), key=operator.itemgetter(1))\n",
    "barve15.reverse()\n",
    "\n",
    "print(\"najbolj popularne 3\")\n",
    "for i, terka in enumerate(barve15):\n",
    "    if i == 3:\n",
    "        break;\n",
    "    else:\n",
    "        print(terka[0], terka[1])\n",
    "        \n",
    "barve15.reverse()\n",
    "\n",
    "print(\"najmanj popularne 3\")\n",
    "for i, terka in enumerate(barve15):\n",
    "    if i == 3:\n",
    "        break;\n",
    "    else:\n",
    "        print(terka[0], terka[1])"
   ]
  },
  {
   "cell_type": "code",
   "execution_count": 55,
   "metadata": {},
   "outputs": [
    {
     "name": "stdout",
     "output_type": "stream",
     "text": [
      "najbolj popularne 3\n",
      "navaden - BELA - SREDNJA 24878\n",
      "kovinski - SIVA - SVETLA 15107\n",
      "kovinski - SIVA - TEMNA 14718\n",
      "[('5', 1), ('kovinski - VIJOLIÈNA - SVETLA', 17), ('navaden - VIJOLIÈNA - SVETLA', 23), ('navaden - VIJOLIÈNA - TEMNA', 28), ('navaden - VIJOLIÈNA - SREDNJA', 38), ('kovinski - VIJOLIÈNA - SREDNJA', 43), ('navaden - RJAVA - TEMNA', 65), ('kovinski - RUMENA - TEMNA', 67), ('kovinski - ORAN\\x8eNA - SVETLA', 84), ('navaden - ORAN\\x8eNA - TEMNA', 89), ('kovinski - RUMENA - SVETLA', 92), ('navaden - ÈRNA - SVETLA', 133), ('navaden - RUMENA - TEMNA', 144), ('kovinski - VIJOLIÈNA - TEMNA', 160), ('kovinski - RUMENA - SREDNJA', 193), ('navaden - ORAN\\x8eNA - SVETLA', 195), ('navaden - RJAVA - SREDNJA', 207), ('kovinski - ORAN\\x8eNA - TEMNA', 227), ('navaden - RUMENA - SVETLA', 241), ('navaden - ZELENA - TEMNA', 250), ('kovinski - ZELENA - SVETLA', 254), ('kovinski - ZELENA - SREDNJA', 278), ('kovinski - ÈRNA - SVETLA', 297), ('kovinski - RDEÈA - SVETLA', 359), ('navaden - RDEÈA - SVETLA', 390), ('kovinski - ZELENA - TEMNA', 465), ('navaden - SIVA - SVETLA', 591), ('kovinski - ORAN\\x8eNA - SREDNJA', 602), ('navaden - RJAVA - SVETLA', 613), ('navaden - ZELENA - SVETLA', 651), ('navaden - MODRA - SVETLA', 699), ('navaden - RUMENA - SREDNJA', 816), ('navaden - ORAN\\x8eNA - SREDNJA', 834), ('navaden - MODRA - TEMNA', 1057), ('navaden - SIVA - TEMNA', 1207), ('kovinski - BELA - TEMNA', 1360), ('kovinski - MODRA - SVETLA', 1481), ('navaden - RDEÈA - TEMNA', 1487), ('kovinski - RJAVA - TEMNA', 1522), ('navaden - ZELENA - SREDNJA', 1523), ('navaden - SIVA - SREDNJA', 1532), ('kovinski - RJAVA - SREDNJA', 1586), ('kovinski - RDEÈA - TEMNA', 1982), ('kovinski - BELA - SVETLA', 2164), ('navaden - ÈRNA - TEMNA', 2292), ('kovinski - RJAVA - SVETLA', 2670), ('navaden - MODRA - SREDNJA', 2799), ('kovinski - RDEÈA - SREDNJA', 2939), ('kovinski - BELA - SREDNJA', 3127), ('navaden - ÈRNA - SREDNJA', 3604), ('kovinski - MODRA - TEMNA', 3662), ('kovinski - MODRA - SREDNJA', 3967), ('navaden - BELA - TEMNA', 5160), ('navaden - RDEÈA - SREDNJA', 7087), ('kovinski - ÈRNA - SREDNJA', 7484), ('navaden - BELA - SVETLA', 8640), ('kovinski - SIVA - SREDNJA', 8805), ('kovinski - ÈRNA - TEMNA', 9203), ('kovinski - SIVA - TEMNA', 14718), ('kovinski - SIVA - SVETLA', 15107), ('navaden - BELA - SREDNJA', 24878)]\n",
      "najmanj popularne 3\n",
      "5 1\n",
      "kovinski - VIJOLIÈNA - SVETLA 17\n",
      "navaden - VIJOLIÈNA - SVETLA 23\n"
     ]
    }
   ],
   "source": [
    "# prve tri najbolj popularne barve vozila v letu 2017\n",
    "barve17 = defaultdict(int)\n",
    "import operator\n",
    "for data in df17:\n",
    "    values = data['R-Barva vozila (opis)'].value_counts().keys().tolist()\n",
    "    counts = data['R-Barva vozila (opis)'].value_counts().tolist()\n",
    "    for barva, stevilo in zip(values,counts):\n",
    "        barve17[barva] += stevilo\n",
    "\n",
    "barve17 = sorted(barve17.items(), key=operator.itemgetter(1))\n",
    "barve17.reverse()\n",
    "\n",
    "print(\"najbolj popularne 3\")\n",
    "for i, terka in enumerate(barve17):\n",
    "    if i == 3:\n",
    "        break;\n",
    "    else:\n",
    "        print(terka[0], terka[1])\n",
    "        \n",
    "barve17.reverse()\n",
    "print(barve17)\n",
    "print(\"najmanj popularne 3\")\n",
    "for i, terka in enumerate(barve17):\n",
    "    if i == 3:\n",
    "        break;\n",
    "    else:\n",
    "        print(terka[0], terka[1])"
   ]
  }
 ],
 "metadata": {
  "kernelspec": {
   "display_name": "Python 3",
   "language": "python",
   "name": "python3"
  },
  "language_info": {
   "codemirror_mode": {
    "name": "ipython",
    "version": 3
   },
   "file_extension": ".py",
   "mimetype": "text/x-python",
   "name": "python",
   "nbconvert_exporter": "python",
   "pygments_lexer": "ipython3",
   "version": "3.6.4"
  }
 },
 "nbformat": 4,
 "nbformat_minor": 2
}
