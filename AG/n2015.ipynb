{
 "cells": [
  {
   "cell_type": "code",
   "execution_count": 6,
   "metadata": {},
   "outputs": [],
   "source": [
    "# IMPORT\n",
    "import pandas as pd\n",
    "import numpy as np\n",
    "import matplotlib.pyplot as plt"
   ]
  },
  {
   "cell_type": "code",
   "execution_count": 7,
   "metadata": {},
   "outputs": [],
   "source": [
    "stolpci = [0, 1, 4, 5, 6, 9, 10, 11, 12, 13, 14, 15, 16, 17, 18, 19, 20, 23, 24, 31, 32, 33, 47, 48, 49, 58, 59, 60, 65, 83, 89, 90, 91, 99, 100]\n",
    "mesec = ['Januar', 'Februar', 'Marec', 'April', 'Maj', 'Junij', 'Julij', 'Avgust', 'September', 'Oktober', 'November', 'December']"
   ]
  },
  {
   "cell_type": "code",
   "execution_count": 8,
   "metadata": {},
   "outputs": [],
   "source": [
    "df1501 = pd.read_csv(\"../data/2015/NPodatki_012015.csv\", encoding = 'utf-8', dtype='str', usecols=stolpci)\n",
    "df1502 = pd.read_csv(\"../data/2015/NPodatki_022015.csv\", encoding = 'latin1', dtype='str', usecols=stolpci)\n",
    "df1503 = pd.read_csv(\"../data/2015/NPodatki_032015.csv\", encoding = 'latin1', dtype='str', usecols=stolpci)\n",
    "df1504 = pd.read_csv(\"../data/2015/NPodatki_042015.csv\", encoding = 'latin1', dtype='str', usecols=stolpci)\n",
    "df1505 = pd.read_csv(\"../data/2015/NPodatki_052015.csv\", encoding = 'latin1', dtype='str', usecols=stolpci)\n",
    "df1506 = pd.read_csv(\"../data/2015/NPodatki_062015.csv\", encoding = 'latin1', dtype='str', usecols=stolpci)\n",
    "df1507 = pd.read_csv(\"../data/2015/NPodatki_072015.csv\", encoding = 'latin1', dtype='str', usecols=stolpci)\n",
    "df1508 = pd.read_csv(\"../data/2015/NPodatki_082015.csv\", encoding = 'latin1', dtype='str', usecols=stolpci)\n",
    "df1509 = pd.read_csv(\"../data/2015/NPodatki_092015.csv\", encoding = 'latin1', dtype='str', usecols=stolpci)\n",
    "df1510 = pd.read_csv(\"../data/2015/NPodatki_102015.csv\", encoding = 'latin1', dtype='str', usecols=stolpci)\n",
    "df1511 = pd.read_csv(\"../data/2015/NPodatki_112015.csv\", encoding = 'latin1', dtype='str', usecols=stolpci)\n",
    "df1512 = pd.read_csv(\"../data/2015/NPodatki_122015.csv\", encoding = 'latin1', dtype='str', usecols=stolpci)\n",
    "df15 = [df1501, df1502, df1503, df1504, df1505, df1506, df1507, df1508, df1509, df1510, df1511, df1512]"
   ]
  },
  {
   "cell_type": "code",
   "execution_count": 263,
   "metadata": {},
   "outputs": [
    {
     "data": {
      "text/plain": [
       "Index(['B-Datum prve registracije vozila',\n",
       "       '2A-Datum prve registracije vozila v SLO', 'Status vozila (id)',\n",
       "       'Status vozila (opis)', 'Izvajalna enota prve registracije',\n",
       "       'C-Starost uporabnika vozila',\n",
       "       'C-Ali je uporabnik pravna ali fizicna oseba',\n",
       "       'C-Spol uporabnika (ce gre za fizicno osebo)',\n",
       "       'C-Ali je uporabnik tudi lastnik vozila',\n",
       "       'C1.3-Upravna enota uporabnika vozila (oznaka)',\n",
       "       'C1.3-Upravna enota uporabnika vozila (opis)',\n",
       "       'C1.3-Obcina uporabnika vozila (oznaka)',\n",
       "       'C1.3-Obcina uporabnika vozila (opis)', 'C2-Starost lastnika vozila',\n",
       "       'C2-Ali je lastnik pravna ali fizicna oseba',\n",
       "       'C2-Spol lastnika (ce gre za fizicno osebo)', 'D.1-Znamka',\n",
       "       'D.4.2-Drzava (opis)', 'D.4.2-Drzava (koda)', 'G-Masa vozila',\n",
       "       'J-Kategorija in vrsta vozila (oznaka)',\n",
       "       'J-Kategorija in vrsta vozila (opis)', 'P.1.2-Nazivna moc',\n",
       "       'P.1.3-Vrsta goriva (opis)', 'P.1.3-Vrsta goriva (oznaka)',\n",
       "       'R-Barva vozila (oznaka)', 'R-Barva vozila (opis)',\n",
       "       'S.1-Stevilo sedezev (vkljucno z vozniskim)', 'U.3-V voznji',\n",
       "       'V.8-Kombinirana poraba goriva', 'Y.1-Dolzina', 'Y.2-Sirina',\n",
       "       'Y.3-Visina', 'Komerc. oznaka  do prvega /', '5A-Leto izdelave'],\n",
       "      dtype='object')"
      ]
     },
     "execution_count": 263,
     "metadata": {},
     "output_type": "execute_result"
    }
   ],
   "source": [
    "df1501.columns"
   ]
  },
  {
   "cell_type": "code",
   "execution_count": 260,
   "metadata": {
    "scrolled": false
   },
   "outputs": [
    {
     "data": {
      "text/plain": [
       "<matplotlib.axes._subplots.AxesSubplot at 0x7fb0aec27828>"
      ]
     },
     "execution_count": 260,
     "metadata": {},
     "output_type": "execute_result"
    },
    {
     "data": {
      "image/png": "[encoded data removed]",
      "text/plain": [
       "<matplotlib.figure.Figure at 0x7fb0ad273358>"
      ]
     },
     "metadata": {},
     "output_type": "display_data"
    }
   ],
   "source": [
    "# graf ki prikazuje registrirane avte v januarja leta 2015 po tipu goriva\n",
    "df15[1]['P.1.3-Vrsta goriva (opis)'].value_counts().plot(kind='bar')"
   ]
  },
  {
   "cell_type": "code",
   "execution_count": 261,
   "metadata": {},
   "outputs": [
    {
     "data": {
      "image/png": "[encoded data removed]",
      "text/plain": [
       "<matplotlib.figure.Figure at 0x7fb0ad3831d0>"
      ]
     },
     "metadata": {},
     "output_type": "display_data"
    }
   ],
   "source": [
    "# prikaz registracije vozil katera za svoje delovenje uporabljajo mesanico\n",
    "# kar pomeni da je skoraj v vseh primerih to motorno kolo \n",
    "# iz grafa razberemo da se najvec takih vozil registrira poleti kar je tudi pricakovano\n",
    "mesanica = dict()\n",
    "for m,data in zip(mesec,df15):\n",
    "    mesanica[m] = len(data[data['P.1.3-Vrsta goriva (oznaka)'] == 'M'])\n",
    "\n",
    "plt.bar(range(len(mesanica)), mesanica.values(), color='pink')\n",
    "plt.xticks(range(len(mesec)), mesec)\n",
    "plt.xticks(rotation=90)\n",
    "\n",
    "plt.show()"
   ]
  }
 ],
 "metadata": {
  "kernelspec": {
   "display_name": "Python 3",
   "language": "python",
   "name": "python3"
  },
  "language_info": {
   "codemirror_mode": {
    "name": "ipython",
    "version": 3
   },
   "file_extension": ".py",
   "mimetype": "text/x-python",
   "name": "python",
   "nbconvert_exporter": "python",
   "pygments_lexer": "ipython3",
   "version": "3.6.4"
  }
 },
 "nbformat": 4,
 "nbformat_minor": 2
}
