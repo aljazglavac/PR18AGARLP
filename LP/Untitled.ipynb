{
 "cells": [
  {
   "cell_type": "code",
   "execution_count": 47,
   "metadata": {},
   "outputs": [],
   "source": [
    "import pandas as pd\n",
    "import matplotlib.pyplot as plt"
   ]
  },
  {
   "cell_type": "code",
   "execution_count": 31,
   "metadata": {},
   "outputs": [],
   "source": [
    "stolpci = [0, 1, 4, 5, 6, 9, 10, 11, 12, 13, 14, 15, 16, 17, 18, 19, 20, 23, 24, 31, 32, 33, 47, 48, 49, 58, 59, 60, 65, 83, 89, 90, 91, 99, 100]\n",
    "\n",
    "data = pd.read_csv('../data/2017/Podatki_122017.csv', usecols=stolpci)"
   ]
  },
  {
   "cell_type": "code",
   "execution_count": 58,
   "metadata": {},
   "outputs": [
    {
     "data": {
      "text/plain": [
       "Index(['B-Datum prve registracije vozila',\n",
       "       '2A-Datum prve registracije vozila v SLO', 'Status vozila (id)',\n",
       "       'Status vozila (opis)', 'Izvajalna enota prve registracije',\n",
       "       'C-Starost uporabnika vozila',\n",
       "       'C-Ali je uporabnik pravna ali fizicna oseba',\n",
       "       'C-Spol uporabnika (ce gre za fizicno osebo)',\n",
       "       'C-Ali je uporabnik tudi lastnik vozila',\n",
       "       'C1.3-Upravna enota uporabnika vozila (oznaka)',\n",
       "       'C1.3-Upravna enota uporabnika vozila (opis)',\n",
       "       'C1.3-Obcina uporabnika vozila (oznaka)',\n",
       "       'C1.3-Obcina uporabnika vozila (opis)', 'C2-Starost lastnika vozila',\n",
       "       'C2-Ali je lastnik pravna ali fizicna oseba',\n",
       "       'C2-Spol lastnika (ce gre za fizicno osebo)', 'D.1-Znamka',\n",
       "       'D.4.2-Drzava (opis)', 'D.4.2-Drzava (koda)', 'G-Masa vozila',\n",
       "       'J-Kategorija in vrsta vozila (oznaka)',\n",
       "       'J-Kategorija in vrsta vozila (opis)', 'P.1.2-Nazivna moc',\n",
       "       'P.1.3-Vrsta goriva (opis)', 'P.1.3-Vrsta goriva (oznaka)',\n",
       "       'R-Barva vozila (oznaka)', 'R-Barva vozila (opis)',\n",
       "       'S.1-Stevilo sedezev (vkljucno z vozniskim)', 'U.3-V voznji',\n",
       "       'V.8-Kombinirana poraba goriva', 'Y.1-Dolzina', 'Y.2-Sirina',\n",
       "       'Y.3-Visina', 'Komerc. oznaka  do prvega /', '5A-Leto izdelave'],\n",
       "      dtype='object')"
      ]
     },
     "execution_count": 58,
     "metadata": {},
     "output_type": "execute_result"
    }
   ],
   "source": [
    "data.columns"
   ]
  },
  {
   "cell_type": "markdown",
   "metadata": {},
   "source": [
    "# Seznam držav iz katerih izvirajo avtomobili"
   ]
  },
  {
   "cell_type": "code",
   "execution_count": 87,
   "metadata": {},
   "outputs": [
    {
     "data": {
      "text/plain": [
       "['Nemèija',\n",
       " 'Jugoslavija',\n",
       " 'Japonska ',\n",
       " 'Koreja, republika',\n",
       " 'Kitajska ',\n",
       " 'Francija',\n",
       " 'Združeno kraljestvo',\n",
       " 'Italija',\n",
       " 'Združene države',\n",
       " 'Slovaška',\n",
       " 'Èeška republika',\n",
       " 'Madžarska',\n",
       " 'Švedska',\n",
       " 'Slovenija',\n",
       " 'Turèija',\n",
       " 'Romunija',\n",
       " 'Tajvan, Provinca Kitajske',\n",
       " 'Avstrija',\n",
       " 'Španija',\n",
       " 'Nizozemska',\n",
       " 'Luksemburg',\n",
       " 'Poljska',\n",
       " 'Estonija',\n",
       " 'Belgija',\n",
       " 'Indija',\n",
       " 'Južna Afrika',\n",
       " 'Litva',\n",
       " 'Kanada',\n",
       " 'Tajska',\n",
       " 'Švica',\n",
       " 'Srbija',\n",
       " 'Hrvaška',\n",
       " 'Belorusija',\n",
       " 'Finska',\n",
       " 'Vietnam',\n",
       " 'Mehika',\n",
       " 'X',\n",
       " 'Ruska federacija',\n",
       " 'Ukrajina',\n",
       " 'Norveška']"
      ]
     },
     "execution_count": 87,
     "metadata": {},
     "output_type": "execute_result"
    }
   ],
   "source": [
    "list(data['D.4.2-Drzava (opis)'].unique())"
   ]
  },
  {
   "cell_type": "markdown",
   "metadata": {},
   "source": [
    "# Graf števila avtomobilov iz posameznih držav"
   ]
  },
  {
   "cell_type": "code",
   "execution_count": 77,
   "metadata": {},
   "outputs": [
    {
     "data": {
      "text/plain": [
       "<matplotlib.axes._subplots.AxesSubplot at 0x7f8b63f31d30>"
      ]
     },
     "execution_count": 77,
     "metadata": {},
     "output_type": "execute_result"
    },
    {
     "data": {
      "image/png": "[encoded data removed]",
      "text/plain": [
       "<matplotlib.figure.Figure at 0x7f8b63dbcb38>"
      ]
     },
     "metadata": {},
     "output_type": "display_data"
    }
   ],
   "source": [
    "drzava = data.groupby('D.4.2-Drzava (opis)')['D.4.2-Drzava (opis)'].count().sort_values(ascending=False)\n",
    "drzava.plot.bar()\n"
   ]
  }
 ],
 "metadata": {
  "kernelspec": {
   "display_name": "Python 3",
   "language": "python",
   "name": "python3"
  },
  "language_info": {
   "codemirror_mode": {
    "name": "ipython",
    "version": 3
   },
   "file_extension": ".py",
   "mimetype": "text/x-python",
   "name": "python",
   "nbconvert_exporter": "python",
   "pygments_lexer": "ipython3",
   "version": "3.6.4"
  }
 },
 "nbformat": 4,
 "nbformat_minor": 2
}
