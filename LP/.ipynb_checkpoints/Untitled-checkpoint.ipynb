{
 "cells": [
  {
   "cell_type": "code",
   "execution_count": 4,
   "metadata": {},
   "outputs": [],
   "source": [
    "import pandas as pd\n",
    "import matplotlib.pyplot as plt"
   ]
  },
  {
   "cell_type": "code",
   "execution_count": 54,
   "metadata": {},
   "outputs": [],
   "source": [
    "stolpci = [0, 1, 4, 5, 6, 9, 10, 11, 12, 13, 14, 15, 16, 17, 18, 19, 20, 23, 24, 31, 32, 33, 47, 48, 49, 58, 59, 60, 65, 83, 89, 90, 91, 99, 100]\n",
    "dtype = {'B-Datum prve registracije vozila': 'str',\n",
    "         '2A-Datum prve registracije vozila v SLO': 'str', \n",
    "         'Status vozila (id)': 'float',\n",
    "         'Status vozila (opis)': 'str', \n",
    "         'Izvajalna enota prve registracije': 'str',\n",
    "         'C-Starost uporabnika vozila': 'float',\n",
    "         'C-Ali je uporabnik pravna ali fizicna oseba': 'str',\n",
    "         'C-Spol uporabnika (ce gre za fizicno osebo)': 'str',\n",
    "         'C-Ali je uporabnik tudi lastnik vozila': 'str',\n",
    "         'C1.3-Upravna enota uporabnika vozila (oznaka)': 'str',\n",
    "         'C1.3-Upravna enota uporabnika vozila (opis)': 'str',\n",
    "         'C1.3-Obcina uporabnika vozila (oznaka)': 'str',\n",
    "         'C1.3-Obcina uporabnika vozila (opis)': 'str',\n",
    "         'C2-Starost lastnika vozila': 'float',\n",
    "         'C2-Ali je lastnik pravna ali fizicna oseba': 'str',\n",
    "         'C2-Spol lastnika (ce gre za fizicno osebo)': 'str', \n",
    "         'D.1-Znamka': 'str',\n",
    "         'D.4.2-Drzava (opis)': 'str',\n",
    "         'D.4.2-Drzava (koda)':'str',\n",
    "         'G-Masa vozila': 'float',\n",
    "         'J-Kategorija in vrsta vozila (oznaka)': 'str',\n",
    "         'J-Kategorija in vrsta vozila (opis)': 'str',\n",
    "         'P.1.2-Nazivna moc': 'str',\n",
    "         'P.1.3-Vrsta goriva (opis)': 'str',\n",
    "         'P.1.3-Vrsta goriva (oznaka)': 'str',\n",
    "         'R-Barva vozila (oznaka)': 'str',\n",
    "         'R-Barva vozila (opis)': 'str',\n",
    "         'S.1-Stevilo sedezev (vkljucno z vozniskim)': 'float',\n",
    "         'U.3-V voznji': 'str',\n",
    "         'V.8-Kombinirana poraba goriva': 'float',\n",
    "         'Y.1-Dolzina': 'float',\n",
    "         'Y.2-Sirina': 'float',\n",
    "         'Y.3-Visina': 'float',\n",
    "         'Komerc. oznaka  do prvega /': 'str',\n",
    "         '5A-Leto izdelave': 'str'}\n",
    "data01 = pd.read_csv('../data/2017/Podatki_012017.csv', usecols=stolpci, dtype=dtype)\n",
    "data02 = pd.read_csv('../data/2017/Podatki_022017.csv', usecols=stolpci, dtype=dtype)\n",
    "#data03 = pd.read_csv('../data/2017/Podatki_032017.csv', usecols=stolpci, dtype=dtype)\n",
    "data04 = pd.read_csv('../data/2017/Podatki_042017.csv', usecols=stolpci, dtype=dtype)\n",
    "data05 = pd.read_csv('../data/2017/Podatki_052017.csv', usecols=stolpci, dtype=dtype)\n",
    "data06 = pd.read_csv('../data/2017/Podatki_062017.csv', usecols=stolpci, dtype=dtype)\n",
    "data07 = pd.read_csv('../data/2017/Podatki_072017.csv', usecols=stolpci, dtype=dtype)\n",
    "data08 = pd.read_csv('../data/2017/Podatki_082017.csv', usecols=stolpci, dtype=dtype)\n",
    "data09 = pd.read_csv('../data/2017/Podatki_092017.csv', usecols=stolpci, dtype=dtype)\n",
    "data10 = pd.read_csv('../data/2017/Podatki_102017.csv', usecols=stolpci, dtype=dtype)\n",
    "data11 = pd.read_csv('../data/2017/Podatki_112017.csv', usecols=stolpci, dtype=dtype)\n",
    "data12 = pd.read_csv('../data/2017/Podatki_122017.csv', usecols=stolpci, dtype=dtype)"
   ]
  },
  {
   "cell_type": "code",
   "execution_count": 56,
   "metadata": {},
   "outputs": [],
   "source": [
    "frames = [data01, data02, data04, data05, data06, data07, data08, data09, data10, data11, data12]\n",
    "data = pd.concat(frames)"
   ]
  },
  {
   "cell_type": "code",
   "execution_count": null,
   "metadata": {},
   "outputs": [],
   "source": [
    "občina uporabnika vozila (oznaka)\n",
    "starost lastnika vozila\n",
    "masa vozila\n",
    "nazivna moč\n",
    "kombinirana poraba goriva\n",
    "višina"
   ]
  },
  {
   "cell_type": "code",
   "execution_count": 69,
   "metadata": {},
   "outputs": [
    {
     "data": {
      "text/plain": [
       "Index(['2A-Datum prve registracije vozila v SLO', '5A-Leto izdelave',\n",
       "       'B-Datum prve registracije vozila',\n",
       "       'C-Ali je uporabnik pravna ali fizicna oseba',\n",
       "       'C-Ali je uporabnik tudi lastnik vozila',\n",
       "       'C-Spol uporabnika (ce gre za fizicno osebo)',\n",
       "       'C-Starost uporabnika vozila', 'C1.3-Obcina uporabnika vozila (opis)',\n",
       "       'C1.3-Obcina uporabnika vozila (oznaka)',\n",
       "       'C1.3-Upravna enota uporabnika vozila (opis)',\n",
       "       'C1.3-Upravna enota uporabnika vozila (oznaka)',\n",
       "       'C2-Ali je lastnik pravna ali fizicna oseba',\n",
       "       'C2-Spol lastnika (ce gre za fizicno osebo)',\n",
       "       'C2-Starost lastnika vozila', 'D.1-Znamka', 'D.4.2-Drzava (koda)',\n",
       "       'D.4.2-Drzava (opis)', 'G-Masa vozila',\n",
       "       'Izvajalna enota prve registracije',\n",
       "       'J-Kategorija in vrsta vozila (opis)',\n",
       "       'J-Kategorija in vrsta vozila (oznaka)', 'Komerc. oznaka  do prvega /',\n",
       "       'P.1.2-Nazivna moc', 'P.1.3-Vrsta goriva (opis)',\n",
       "       'P.1.3-Vrsta goriva (oznaka)', 'R-Barva vozila (opis)',\n",
       "       'R-Barva vozila (oznaka)',\n",
       "       'S.1-Stevilo sedezev (vkljucno z vozniskim\\n )',\n",
       "       'S.1-Stevilo sedezev (vkljucno z vozniskim)', 'Status vozila (id)',\n",
       "       'Status vozila (opis)', 'U.3-V voznji', 'V.8-Kombinirana poraba goriva',\n",
       "       'Y.1-Dolzina', 'Y.2-Sirina', 'Y.3-Visina'],\n",
       "      dtype='object')"
      ]
     },
     "execution_count": 69,
     "metadata": {},
     "output_type": "execute_result"
    }
   ],
   "source": [
    "data.columns"
   ]
  },
  {
   "cell_type": "markdown",
   "metadata": {},
   "source": [
    "# Seznam držav iz katerih izvirajo avtomobili"
   ]
  },
  {
   "cell_type": "code",
   "execution_count": 57,
   "metadata": {},
   "outputs": [
    {
     "data": {
      "text/plain": [
       "['Nemèija',\n",
       " 'Francija',\n",
       " 'Združeno kraljestvo',\n",
       " 'Èeška republika',\n",
       " 'Madžarska',\n",
       " 'Slovenija',\n",
       " 'Švedska',\n",
       " 'Jugoslavija',\n",
       " 'Italija',\n",
       " 'Turèija',\n",
       " 'Japonska ',\n",
       " 'Španija',\n",
       " 'Nizozemska',\n",
       " 'Slovaška',\n",
       " 'Hrvaška',\n",
       " 'Koreja, republika',\n",
       " 'Združene države',\n",
       " 'Romunija',\n",
       " 'Luksemburg',\n",
       " 'Avstrija',\n",
       " 'Kitajska ',\n",
       " 'Indija',\n",
       " 'Tajska',\n",
       " 'Ukrajina',\n",
       " 'Belgija',\n",
       " 'Poljska',\n",
       " 'Južna Afrika',\n",
       " 'Finska',\n",
       " 'Švica',\n",
       " 'Mehika',\n",
       " 'Tajvan, Provinca Kitajske',\n",
       " 'Kanada',\n",
       " 'Ruska federacija',\n",
       " 'Portugalska ',\n",
       " 'Danska',\n",
       " 'Litva',\n",
       " 'Vietnam',\n",
       " 'Indonezija',\n",
       " 'Belorusija',\n",
       " 'Srbija',\n",
       " 'ÈSSR',\n",
       " 'X',\n",
       " 'Avstralija',\n",
       " 'Koreja, Demokratièna ljudska republika',\n",
       " 'Islandija',\n",
       " 'VZHODNA NEMÈIJA',\n",
       " 'Makedonija',\n",
       " 'Bosna in Hercegovina',\n",
       " 'Estonija',\n",
       " 'Irska ',\n",
       " 'Jordanija',\n",
       " 'Norveška',\n",
       " 'Nepal',\n",
       " 'Bolgarija']"
      ]
     },
     "execution_count": 57,
     "metadata": {},
     "output_type": "execute_result"
    }
   ],
   "source": [
    "list(data['D.4.2-Drzava (opis)'].unique())"
   ]
  },
  {
   "cell_type": "markdown",
   "metadata": {},
   "source": [
    "# Graf števila avtomobilov iz posameznih držav"
   ]
  },
  {
   "cell_type": "code",
   "execution_count": 58,
   "metadata": {},
   "outputs": [
    {
     "data": {
      "text/plain": [
       "<matplotlib.axes._subplots.AxesSubplot at 0x7feadb667710>"
      ]
     },
     "execution_count": 58,
     "metadata": {},
     "output_type": "execute_result"
    },
    {
     "data": {
      "image/png": "[encoded data removed]",
      "text/plain": [
       "<matplotlib.figure.Figure at 0x7feadb6969e8>"
      ]
     },
     "metadata": {},
     "output_type": "display_data"
    }
   ],
   "source": [
    "drzava = data.groupby('D.4.2-Drzava (opis)')['D.4.2-Drzava (opis)'].count().sort_values(ascending=False)\n",
    "drzava.plot.bar()"
   ]
  },
  {
   "cell_type": "code",
   "execution_count": 60,
   "metadata": {},
   "outputs": [
    {
     "data": {
      "text/html": [
       "<div>\n",
       "<style scoped>\n",
       "    .dataframe tbody tr th:only-of-type {\n",
       "        vertical-align: middle;\n",
       "    }\n",
       "\n",
       "    .dataframe tbody tr th {\n",
       "        vertical-align: top;\n",
       "    }\n",
       "\n",
       "    .dataframe thead th {\n",
       "        text-align: right;\n",
       "    }\n",
       "</style>\n",
       "<table border=\"1\" class=\"dataframe\">\n",
       "  <thead>\n",
       "    <tr style=\"text-align: right;\">\n",
       "      <th></th>\n",
       "      <th>C-Starost uporabnika vozila</th>\n",
       "      <th>C2-Starost lastnika vozila</th>\n",
       "      <th>G-Masa vozila</th>\n",
       "      <th>S.1-Stevilo sedezev (vkljucno z vozniskim\n",
       " )</th>\n",
       "      <th>S.1-Stevilo sedezev (vkljucno z vozniskim)</th>\n",
       "      <th>Status vozila (id)</th>\n",
       "      <th>V.8-Kombinirana poraba goriva</th>\n",
       "      <th>Y.1-Dolzina</th>\n",
       "      <th>Y.2-Sirina</th>\n",
       "      <th>Y.3-Visina</th>\n",
       "    </tr>\n",
       "  </thead>\n",
       "  <tbody>\n",
       "    <tr>\n",
       "      <th>count</th>\n",
       "      <td>80409.000000</td>\n",
       "      <td>56215.000000</td>\n",
       "      <td>138549.000000</td>\n",
       "      <td>10017.000000</td>\n",
       "      <td>125318.000000</td>\n",
       "      <td>138624.000000</td>\n",
       "      <td>101938.000000</td>\n",
       "      <td>1.304190e+05</td>\n",
       "      <td>130419.000000</td>\n",
       "      <td>1.304190e+05</td>\n",
       "    </tr>\n",
       "    <tr>\n",
       "      <th>mean</th>\n",
       "      <td>46.424107</td>\n",
       "      <td>47.675354</td>\n",
       "      <td>1648.483429</td>\n",
       "      <td>4.666667</td>\n",
       "      <td>4.279194</td>\n",
       "      <td>1.091701</td>\n",
       "      <td>5.234769</td>\n",
       "      <td>1.299448e+04</td>\n",
       "      <td>1710.309748</td>\n",
       "      <td>7.400397e+03</td>\n",
       "    </tr>\n",
       "    <tr>\n",
       "      <th>std</th>\n",
       "      <td>14.435077</td>\n",
       "      <td>15.064360</td>\n",
       "      <td>1863.335792</td>\n",
       "      <td>2.026679</td>\n",
       "      <td>32.969444</td>\n",
       "      <td>0.300027</td>\n",
       "      <td>6.349178</td>\n",
       "      <td>5.720414e+05</td>\n",
       "      <td>473.126293</td>\n",
       "      <td>3.564504e+05</td>\n",
       "    </tr>\n",
       "    <tr>\n",
       "      <th>min</th>\n",
       "      <td>8.000000</td>\n",
       "      <td>8.000000</td>\n",
       "      <td>0.000000</td>\n",
       "      <td>0.000000</td>\n",
       "      <td>0.000000</td>\n",
       "      <td>1.000000</td>\n",
       "      <td>0.000000</td>\n",
       "      <td>5.000000e+00</td>\n",
       "      <td>63.000000</td>\n",
       "      <td>0.000000e+00</td>\n",
       "    </tr>\n",
       "    <tr>\n",
       "      <th>25%</th>\n",
       "      <td>36.000000</td>\n",
       "      <td>37.000000</td>\n",
       "      <td>1125.000000</td>\n",
       "      <td>5.000000</td>\n",
       "      <td>2.000000</td>\n",
       "      <td>1.000000</td>\n",
       "      <td>4.400000</td>\n",
       "      <td>4.063000e+03</td>\n",
       "      <td>1733.000000</td>\n",
       "      <td>1.448000e+03</td>\n",
       "    </tr>\n",
       "    <tr>\n",
       "      <th>50%</th>\n",
       "      <td>46.000000</td>\n",
       "      <td>48.000000</td>\n",
       "      <td>1386.000000</td>\n",
       "      <td>5.000000</td>\n",
       "      <td>5.000000</td>\n",
       "      <td>1.000000</td>\n",
       "      <td>4.900000</td>\n",
       "      <td>4.397000e+03</td>\n",
       "      <td>1807.000000</td>\n",
       "      <td>1.510000e+03</td>\n",
       "    </tr>\n",
       "    <tr>\n",
       "      <th>75%</th>\n",
       "      <td>57.000000</td>\n",
       "      <td>59.000000</td>\n",
       "      <td>1615.000000</td>\n",
       "      <td>5.000000</td>\n",
       "      <td>5.000000</td>\n",
       "      <td>1.000000</td>\n",
       "      <td>5.600000</td>\n",
       "      <td>4.726000e+03</td>\n",
       "      <td>1850.000000</td>\n",
       "      <td>1.658000e+03</td>\n",
       "    </tr>\n",
       "    <tr>\n",
       "      <th>max</th>\n",
       "      <td>95.000000</td>\n",
       "      <td>95.000000</td>\n",
       "      <td>59925.000000</td>\n",
       "      <td>55.000000</td>\n",
       "      <td>11640.000000</td>\n",
       "      <td>8.000000</td>\n",
       "      <td>224.000000</td>\n",
       "      <td>4.325478e+07</td>\n",
       "      <td>18139.000000</td>\n",
       "      <td>2.732278e+07</td>\n",
       "    </tr>\n",
       "  </tbody>\n",
       "</table>\n",
       "</div>"
      ],
      "text/plain": [
       "       C-Starost uporabnika vozila  C2-Starost lastnika vozila  G-Masa vozila  \\\n",
       "count                 80409.000000                56215.000000  138549.000000   \n",
       "mean                     46.424107                   47.675354    1648.483429   \n",
       "std                      14.435077                   15.064360    1863.335792   \n",
       "min                       8.000000                    8.000000       0.000000   \n",
       "25%                      36.000000                   37.000000    1125.000000   \n",
       "50%                      46.000000                   48.000000    1386.000000   \n",
       "75%                      57.000000                   59.000000    1615.000000   \n",
       "max                      95.000000                   95.000000   59925.000000   \n",
       "\n",
       "       S.1-Stevilo sedezev (vkljucno z vozniskim\\n )  \\\n",
       "count                                   10017.000000   \n",
       "mean                                        4.666667   \n",
       "std                                         2.026679   \n",
       "min                                         0.000000   \n",
       "25%                                         5.000000   \n",
       "50%                                         5.000000   \n",
       "75%                                         5.000000   \n",
       "max                                        55.000000   \n",
       "\n",
       "       S.1-Stevilo sedezev (vkljucno z vozniskim)  Status vozila (id)  \\\n",
       "count                               125318.000000       138624.000000   \n",
       "mean                                     4.279194            1.091701   \n",
       "std                                     32.969444            0.300027   \n",
       "min                                      0.000000            1.000000   \n",
       "25%                                      2.000000            1.000000   \n",
       "50%                                      5.000000            1.000000   \n",
       "75%                                      5.000000            1.000000   \n",
       "max                                  11640.000000            8.000000   \n",
       "\n",
       "       V.8-Kombinirana poraba goriva   Y.1-Dolzina     Y.2-Sirina  \\\n",
       "count                  101938.000000  1.304190e+05  130419.000000   \n",
       "mean                        5.234769  1.299448e+04    1710.309748   \n",
       "std                         6.349178  5.720414e+05     473.126293   \n",
       "min                         0.000000  5.000000e+00      63.000000   \n",
       "25%                         4.400000  4.063000e+03    1733.000000   \n",
       "50%                         4.900000  4.397000e+03    1807.000000   \n",
       "75%                         5.600000  4.726000e+03    1850.000000   \n",
       "max                       224.000000  4.325478e+07   18139.000000   \n",
       "\n",
       "         Y.3-Visina  \n",
       "count  1.304190e+05  \n",
       "mean   7.400397e+03  \n",
       "std    3.564504e+05  \n",
       "min    0.000000e+00  \n",
       "25%    1.448000e+03  \n",
       "50%    1.510000e+03  \n",
       "75%    1.658000e+03  \n",
       "max    2.732278e+07  "
      ]
     },
     "execution_count": 60,
     "metadata": {},
     "output_type": "execute_result"
    }
   ],
   "source": [
    "data.describe()"
   ]
  },
  {
   "cell_type": "markdown",
   "metadata": {},
   "source": [
    "# Graf 10 občin kjer se je registriralo največ avtomobilov"
   ]
  },
  {
   "cell_type": "code",
   "execution_count": 83,
   "metadata": {},
   "outputs": [
    {
     "data": {
      "text/plain": [
       "<matplotlib.axes._subplots.AxesSubplot at 0x7fead2423f60>"
      ]
     },
     "execution_count": 83,
     "metadata": {},
     "output_type": "execute_result"
    },
    {
     "data": {
      "image/png": "[encoded data removed]",
      "text/plain": [
       "<matplotlib.figure.Figure at 0x7fead2553278>"
      ]
     },
     "metadata": {},
     "output_type": "display_data"
    }
   ],
   "source": [
    "obcine = data.groupby('C1.3-Obcina uporabnika vozila (opis)')['C1.3-Obcina uporabnika vozila (opis)'].count().sort_values(ascending=False)\n",
    "len(obcine)\n",
    "obcine[:10].plot.bar()"
   ]
  },
  {
   "cell_type": "code",
   "execution_count": null,
   "metadata": {},
   "outputs": [],
   "source": []
  }
 ],
 "metadata": {
  "kernelspec": {
   "display_name": "Python 3",
   "language": "python",
   "name": "python3"
  },
  "language_info": {
   "codemirror_mode": {
    "name": "ipython",
    "version": 3
   },
   "file_extension": ".py",
   "mimetype": "text/x-python",
   "name": "python",
   "nbconvert_exporter": "python",
   "pygments_lexer": "ipython3",
   "version": "3.6.4"
  }
 },
 "nbformat": 4,
 "nbformat_minor": 2
}
