{
 "cells": [
  {
   "cell_type": "code",
   "execution_count": 69,
   "metadata": {},
   "outputs": [],
   "source": [
    "# IMPORT\n",
    "import pandas as pd\n",
    "import numpy as np\n",
    "import matplotlib.pyplot as plt\n",
    "from collections import defaultdict"
   ]
  },
  {
   "cell_type": "code",
   "execution_count": 70,
   "metadata": {},
   "outputs": [],
   "source": [
    "stolpci = [0, 1, 4, 5, 6, 9, 10, 11, 12, 13, 14, 15, 16, 17, 18, 19, 20, 23, 24, 31, 32, 33, 47, 48, 49, 58, 59, 60, 65, 83, 85, 89, 90, 91, 99, 100]\n",
    "mesec = ['Januar', 'Februar', 'Marec', 'April', 'Maj', 'Junij', 'Julij', 'Avgust', 'September', 'Oktober', 'November', 'December']"
   ]
  },
  {
   "cell_type": "code",
   "execution_count": 94,
   "metadata": {},
   "outputs": [],
   "source": [
    "df1501 = pd.read_csv(\"../data/2015/NPodatki_012015.csv\", encoding = 'latin1', sep=';', usecols=stolpci, decimal = ',', low_memory=False)\n",
    "df1502 = pd.read_csv(\"../data/2015/NPodatki_022015.csv\", encoding = 'latin1', sep=';', usecols=stolpci, decimal = ',', low_memory=False)\n",
    "df1503 = pd.read_csv(\"../data/2015/NPodatki_032015.csv\", encoding = 'latin1', sep=';', usecols=stolpci, decimal = ',', low_memory=False)\n",
    "df1504 = pd.read_csv(\"../data/2015/NPodatki_042015.csv\", encoding = 'latin1', sep=';', usecols=stolpci, decimal = ',', low_memory=False)\n",
    "df1505 = pd.read_csv(\"../data/2015/NPodatki_052015.csv\", encoding = 'latin1', sep=';', usecols=stolpci, decimal = ',', low_memory=False)\n",
    "df1506 = pd.read_csv(\"../data/2015/NPodatki_062015.csv\", encoding = 'latin1', sep=';', usecols=stolpci, decimal = ',', low_memory=False)\n",
    "df1507 = pd.read_csv(\"../data/2015/NPodatki_072015.csv\", encoding = 'latin1', sep=';', usecols=stolpci, decimal = ',', low_memory=False)\n",
    "df1508 = pd.read_csv(\"../data/2015/NPodatki_082015.csv\", encoding = 'latin1', sep=';', usecols=stolpci, decimal = ',', low_memory=False)\n",
    "df1509 = pd.read_csv(\"../data/2015/NPodatki_092015.csv\", encoding = 'latin1', sep=';', usecols=stolpci, decimal = ',', low_memory=False)\n",
    "df1510 = pd.read_csv(\"../data/2015/NPodatki_102015.csv\", encoding = 'latin1', sep=';', usecols=stolpci, decimal = ',', low_memory=False)\n",
    "df1511 = pd.read_csv(\"../data/2015/NPodatki_112015.csv\", encoding = 'latin1', sep=';', usecols=stolpci, decimal = ',', low_memory=False)\n",
    "df1512 = pd.read_csv(\"../data/2015/NPodatki_122015.csv\", encoding = 'latin1', sep=';', usecols=stolpci, decimal = ',', low_memory=False)\n",
    "df15 = [df1501, df1502, df1503, df1504, df1505, df1506, df1507, df1508, df1509, df1510, df1511, df1512]"
   ]
  },
  {
   "cell_type": "code",
   "execution_count": 95,
   "metadata": {},
   "outputs": [],
   "source": [
    "df1601 = pd.read_csv(\"../data/2016/NPodatki_012016.csv\", encoding = 'latin1', sep=';', usecols=stolpci, decimal = ',', low_memory=False)\n",
    "df1602 = pd.read_csv(\"../data/2016/NPodatki_022016.csv\", encoding = 'latin1', sep=';', usecols=stolpci, decimal = ',', low_memory=False)\n",
    "df1603 = pd.read_csv(\"../data/2016/N2Podatki_032016.csv\", encoding = 'latin1', sep=';', usecols=stolpci, decimal = ',', low_memory=False)\n",
    "df1604 = pd.read_csv(\"../data/2016/NPodatki_042016.csv\", encoding = 'latin1', sep=';', usecols=stolpci, decimal = ',', low_memory=False)\n",
    "df1605 = pd.read_csv(\"../data/2016/NPodatki_052016.csv\", encoding = 'latin1', sep=';', usecols=stolpci, decimal = ',', low_memory=False)\n",
    "df1606 = pd.read_csv(\"../data/2016/NPodatki_062016.csv\", encoding = 'latin1', sep=';', usecols=stolpci, decimal = ',', low_memory=False)\n",
    "df1607 = pd.read_csv(\"../data/2016/NPodatki_072016.csv\", encoding = 'latin1', sep=';', usecols=stolpci, decimal = ',', low_memory=False)\n",
    "df1608 = pd.read_csv(\"../data/2016/NPodatki_082016.csv\", encoding = 'latin1', sep=';', usecols=stolpci, decimal = ',', low_memory=False)\n",
    "df1609 = pd.read_csv(\"../data/2016/NPodatki_092016.csv\", encoding = 'latin1', sep=';', usecols=stolpci, decimal = ',', low_memory=False)\n",
    "df1610 = pd.read_csv(\"../data/2016/NPodatki_102016.csv\", encoding = 'latin1', sep=';', usecols=stolpci, decimal = ',', low_memory=False)\n",
    "df1611 = pd.read_csv(\"../data/2016/NPodatki_112016.csv\", encoding = 'latin1', sep=';', usecols=stolpci, decimal = ',', low_memory=False)\n",
    "df1612 = pd.read_csv(\"../data/2016/NPodatki_122016.csv\", encoding = 'latin1', sep=';', usecols=stolpci, decimal = ',', low_memory=False)\n",
    "df16 = [df1601, df1602, df1603, df1604, df1605, df1606, df1607, df1608, df1609, df1610, df1611, df1612]"
   ]
  },
  {
   "cell_type": "code",
   "execution_count": 96,
   "metadata": {},
   "outputs": [],
   "source": [
    "\n",
    "df1701 = pd.read_csv(\"../data/2017/Podatki_012017.csv\", encoding = 'latin1', sep=';', usecols=stolpci, decimal = ',', low_memory=False)\n",
    "df1702 = pd.read_csv(\"../data/2017/Podatki_022017.csv\", encoding = 'latin1', sep=';', usecols=stolpci, decimal = ',', low_memory=False)\n",
    "df1703 = pd.read_csv(\"../data/2017/Podatki_032017.csv\", encoding = 'latin1', sep=';', usecols=stolpci, decimal = ',', low_memory=False)\n",
    "df1704 = pd.read_csv(\"../data/2017/Podatki_042017.csv\", encoding = 'latin1', sep=';', usecols=stolpci, decimal = ',', low_memory=False)\n",
    "df1705 = pd.read_csv(\"../data/2017/Podatki_052017.csv\", encoding = 'latin1', sep=';', usecols=stolpci, decimal = ',', low_memory=False)\n",
    "df1706 = pd.read_csv(\"../data/2017/Podatki_062017.csv\", encoding = 'latin1', sep=';', usecols=stolpci, decimal = ',', low_memory=False)\n",
    "df1707 = pd.read_csv(\"../data/2017/Podatki_072017.csv\", encoding = 'latin1', sep=';', usecols=stolpci, decimal = ',', low_memory=False)\n",
    "df1708 = pd.read_csv(\"../data/2017/Podatki_082017.csv\", encoding = 'latin1', sep=';', usecols=stolpci, decimal = ',', low_memory=False)\n",
    "df1709 = pd.read_csv(\"../data/2017/Podatki_092017.csv\", encoding = 'latin1', sep=';', usecols=stolpci, decimal = ',', low_memory=False)\n",
    "df1710 = pd.read_csv(\"../data/2017/Podatki_102017.csv\", encoding = 'latin1', sep=';', usecols=stolpci, decimal = ',', low_memory=False)\n",
    "df1711 = pd.read_csv(\"../data/2017/Podatki_112017.csv\", encoding = 'latin1', sep=';', usecols=stolpci, decimal = ',', low_memory=False)\n",
    "df1712 = pd.read_csv(\"../data/2017/Podatki_122017.csv\", encoding = 'latin1', sep=';', usecols=stolpci, decimal = ',', low_memory=False)\n",
    "df17 = [df1701, df1702, df1703, df1704, df1705, df1706, df1707, df1708, df1709, df1710, df1711, df1712]"
   ]
  },
  {
   "cell_type": "markdown",
   "metadata": {},
   "source": [
    "## pravne in fizične osebe"
   ]
  },
  {
   "cell_type": "code",
   "execution_count": 97,
   "metadata": {},
   "outputs": [],
   "source": [
    "df15 = pd.concat(df15)\n",
    "df16 = pd.concat(df16)\n",
    "df17 = pd.concat(df17)"
   ]
  },
  {
   "cell_type": "code",
   "execution_count": 98,
   "metadata": {},
   "outputs": [
    {
     "name": "stdout",
     "output_type": "stream",
     "text": [
      "0.664060194748\n",
      "0.662574093264\n",
      "0.585019710907\n"
     ]
    },
    {
     "data": {
      "text/plain": [
       "['2015', '2017', 0, 1]"
      ]
     },
     "execution_count": 98,
     "metadata": {},
     "output_type": "execute_result"
    },
    {
     "data": {
      "image/png": "[encoded data removed]",
      "text/plain": [
       "<matplotlib.figure.Figure at 0x7fb836904fd0>"
      ]
     },
     "metadata": {},
     "output_type": "display_data"
    }
   ],
   "source": [
    "pf15 = df15.groupby('C2-Ali je lastnik pravna ali fizicna oseba').count()\n",
    "pf15 = pf15.iloc[:,0]\n",
    "\n",
    "pf16 = df16.groupby('C2-Ali je lastnik pravna ali fizicna oseba').count()\n",
    "pf16 = pf16.iloc[:,0]\n",
    "\n",
    "pf17 = df17.groupby('C2-Ali je lastnik pravna ali fizicna oseba').count()\n",
    "pf17 = pf17.iloc[:,0]\n",
    "\n",
    "print(pf15[1] / (pf15[0]+pf15[1]))\n",
    "print(pf16[1] / (pf16[0]+pf16[1]))\n",
    "print(pf17[1] / (pf17[0]+pf17[1]))\n",
    "\n",
    "fig, ax = plt.subplots()\n",
    "\n",
    "t = ['2015', '2016', '2017']\n",
    "\n",
    "ax.plot(t, [pf15[1] / (pf15[0]+pf15[1]), pf16[1] / (pf16[0]+pf16[1]), pf17[1] / (pf17[0]+pf17[1])])\n",
    "ax.axis(['2015', '2017', 0 , 1])"
   ]
  },
  {
   "cell_type": "markdown",
   "metadata": {},
   "source": [
    "## Število registriranih avtomobilov"
   ]
  },
  {
   "cell_type": "code",
   "execution_count": 105,
   "metadata": {},
   "outputs": [
    {
     "data": {
      "text/plain": [
       "['2015', '2017', 0, 170000]"
      ]
     },
     "execution_count": 105,
     "metadata": {},
     "output_type": "execute_result"
    },
    {
     "data": {
      "image/png": "[encoded data removed]",
      "text/plain": [
       "<matplotlib.figure.Figure at 0x7fb84474c6d8>"
      ]
     },
     "metadata": {},
     "output_type": "display_data"
    }
   ],
   "source": [
    "y = [df15.count()[0], df16.count()[0], df17.count()[0]]\n",
    "\n",
    "fig, ax = plt.subplots()\n",
    "\n",
    "t = ['2015', '2016', '2017']\n",
    "\n",
    "ax.plot(t, y)\n",
    "ax.axis(['2015', '2017', 0, 170000])"
   ]
  }
 ],
 "metadata": {
  "kernelspec": {
   "display_name": "Python 3",
   "language": "python",
   "name": "python3"
  },
  "language_info": {
   "codemirror_mode": {
    "name": "ipython",
    "version": 3
   },
   "file_extension": ".py",
   "mimetype": "text/x-python",
   "name": "python",
   "nbconvert_exporter": "python",
   "pygments_lexer": "ipython3",
   "version": "3.6.4"
  }
 },
 "nbformat": 4,
 "nbformat_minor": 2
}
