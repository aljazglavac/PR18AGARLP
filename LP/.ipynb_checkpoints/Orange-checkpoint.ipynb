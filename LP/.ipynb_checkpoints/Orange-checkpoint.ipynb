{
 "cells": [
  {
   "cell_type": "code",
   "execution_count": 13,
   "metadata": {},
   "outputs": [],
   "source": [
    "from Orange.data import Table, Domain\n",
    "from Orange.data import ContinuousVariable, DiscreteVariable, StringVariable\n",
    "import pandas as pd\n",
    "import numpy as np"
   ]
  },
  {
   "cell_type": "code",
   "execution_count": 20,
   "metadata": {},
   "outputs": [
    {
     "ename": "TypeError",
     "evalue": "variables must be primitive",
     "output_type": "error",
     "traceback": [
      "\u001b[0;31m---------------------------------------------------------------------------\u001b[0m",
      "\u001b[0;31mTypeError\u001b[0m                                 Traceback (most recent call last)",
      "\u001b[0;32m<ipython-input-20-828c48a93d1e>\u001b[0m in \u001b[0;36m<module>\u001b[0;34m()\u001b[0m\n\u001b[1;32m     31\u001b[0m          \u001b[0mContinuousVariable\u001b[0m\u001b[0;34m(\u001b[0m\u001b[0;34m'Y.1-Dolzina'\u001b[0m\u001b[0;34m)\u001b[0m\u001b[0;34m,\u001b[0m\u001b[0;34m\u001b[0m\u001b[0m\n\u001b[1;32m     32\u001b[0m          \u001b[0mContinuousVariable\u001b[0m\u001b[0;34m(\u001b[0m\u001b[0;34m'Y.2-Sirina'\u001b[0m\u001b[0;34m)\u001b[0m\u001b[0;34m,\u001b[0m\u001b[0;34m\u001b[0m\u001b[0m\n\u001b[0;32m---> 33\u001b[0;31m          ContinuousVariable('Y.3-Visina')])\n\u001b[0m\u001b[1;32m     34\u001b[0m          \u001b[0;31m#StringVariable('Komerc. oznaka  do prvega /')])\u001b[0m\u001b[0;34m\u001b[0m\u001b[0;34m\u001b[0m\u001b[0m\n\u001b[1;32m     35\u001b[0m          \u001b[0;31m#StringVariable('5A-Leto izdelave')])\u001b[0m\u001b[0;34m\u001b[0m\u001b[0;34m\u001b[0m\u001b[0m\n",
      "\u001b[0;32m~/anaconda3/lib/python3.6/site-packages/Orange/data/domain.py\u001b[0m in \u001b[0;36m__init__\u001b[0;34m(self, attributes, class_vars, metas, source)\u001b[0m\n\u001b[1;32m    154\u001b[0m             \u001b[0mself\u001b[0m\u001b[0;34m.\u001b[0m\u001b[0mclass_vars\u001b[0m\u001b[0;34m[\u001b[0m\u001b[0;36m0\u001b[0m\u001b[0;34m]\u001b[0m \u001b[0;32mif\u001b[0m \u001b[0mlen\u001b[0m\u001b[0;34m(\u001b[0m\u001b[0mself\u001b[0m\u001b[0;34m.\u001b[0m\u001b[0mclass_vars\u001b[0m\u001b[0;34m)\u001b[0m \u001b[0;34m==\u001b[0m \u001b[0;36m1\u001b[0m \u001b[0;32melse\u001b[0m \u001b[0;32mNone\u001b[0m\u001b[0;34m\u001b[0m\u001b[0m\n\u001b[1;32m    155\u001b[0m         \u001b[0;32mif\u001b[0m \u001b[0;32mnot\u001b[0m \u001b[0mall\u001b[0m\u001b[0;34m(\u001b[0m\u001b[0mvar\u001b[0m\u001b[0;34m.\u001b[0m\u001b[0mis_primitive\u001b[0m\u001b[0;34m(\u001b[0m\u001b[0;34m)\u001b[0m \u001b[0;32mfor\u001b[0m \u001b[0mvar\u001b[0m \u001b[0;32min\u001b[0m \u001b[0mself\u001b[0m\u001b[0;34m.\u001b[0m\u001b[0m_variables\u001b[0m\u001b[0;34m)\u001b[0m\u001b[0;34m:\u001b[0m\u001b[0;34m\u001b[0m\u001b[0m\n\u001b[0;32m--> 156\u001b[0;31m             \u001b[0;32mraise\u001b[0m \u001b[0mTypeError\u001b[0m\u001b[0;34m(\u001b[0m\u001b[0;34m\"variables must be primitive\"\u001b[0m\u001b[0;34m)\u001b[0m\u001b[0;34m\u001b[0m\u001b[0m\n\u001b[0m\u001b[1;32m    157\u001b[0m \u001b[0;34m\u001b[0m\u001b[0m\n\u001b[1;32m    158\u001b[0m         self._indices = dict(chain.from_iterable(\n",
      "\u001b[0;31mTypeError\u001b[0m: variables must be primitive"
     ]
    }
   ],
   "source": [
    "domain = Domain([StringVariable('B-Datum prve registracije vozila'),\n",
    "         StringVariable('2A-Datum prve registracije vozila v SLO'), \n",
    "         DiscreteVariable('Status vozila (id)'),\n",
    "         DiscreteVariable('Status vozila (opis)'), \n",
    "         DiscreteVariable('Izvajalna enota prve registracije'),\n",
    "         ContinuousVariable('C-Starost uporabnika vozila'),\n",
    "         DiscreteVariable('C-Ali je uporabnik pravna ali fizicna oseba'),\n",
    "         DiscreteVariable('C-Spol uporabnika (ce gre za fizicno osebo)'),\n",
    "         DiscreteVariable('C-Ali je uporabnik tudi lastnik vozila'),\n",
    "         DiscreteVariable('C1.3-Upravna enota uporabnika vozila (oznaka)'),\n",
    "         DiscreteVariable('C1.3-Upravna enota uporabnika vozila (opis)'),\n",
    "         DiscreteVariable('C1.3-Obcina uporabnika vozila (oznaka)'),\n",
    "         DiscreteVariable('C1.3-Obcina uporabnika vozila (opis)'),\n",
    "         ContinuousVariable('C2-Starost lastnika vozila'),\n",
    "         DiscreteVariable('C2-Ali je lastnik pravna ali fizicna oseba'),\n",
    "         DiscreteVariable('C2-Spol lastnika (ce gre za fizicno osebo)'), \n",
    "         DiscreteVariable('D.1-Znamka'),\n",
    "         DiscreteVariable('D.4.2-Drzava (opis)'),\n",
    "         DiscreteVariable('D.4.2-Drzava (koda)'),\n",
    "         ContinuousVariable('G-Masa vozila'),\n",
    "         DiscreteVariable('J-Kategorija in vrsta vozila (oznaka)'),\n",
    "         DiscreteVariable('J-Kategorija in vrsta vozila (opis)'),\n",
    "         ContinuousVariable('P.1.2-Nazivna moc'),\n",
    "         DiscreteVariable('P.1.3-Vrsta goriva (opis)'),\n",
    "         DiscreteVariable('P.1.3-Vrsta goriva (oznaka)'),\n",
    "         DiscreteVariable('R-Barva vozila (oznaka)'),\n",
    "         DiscreteVariable('R-Barva vozila (opis)'),\n",
    "         DiscreteVariable('S.1-Stevilo sedezev (vkljucno z vozniskim)'),\n",
    "         DiscreteVariable('U.3-V voznji'),\n",
    "         ContinuousVariable('V.8-Kombinirana poraba goriva'),\n",
    "         ContinuousVariable('Y.1-Dolzina'),\n",
    "         ContinuousVariable('Y.2-Sirina'),\n",
    "         ContinuousVariable('Y.3-Visina')])\n",
    "         #StringVariable('Komerc. oznaka  do prvega /')])\n",
    "         #StringVariable('5A-Leto izdelave')])"
   ]
  },
  {
   "cell_type": "code",
   "execution_count": null,
   "metadata": {},
   "outputs": [],
   "source": []
  },
  {
   "cell_type": "code",
   "execution_count": 4,
   "metadata": {},
   "outputs": [],
   "source": [
    "table012018 = Orange.data.Table(\"../data/Podatki_012018-utf.csv\")"
   ]
  },
  {
   "cell_type": "code",
   "execution_count": 8,
   "metadata": {},
   "outputs": [
    {
     "name": "stdout",
     "output_type": "stream",
     "text": [
      "2A-Datum prve registracije vozila v SLO DiscreteVariable\n",
      "1K-Oznaka potrdila o skladnosti DiscreteVariable\n",
      "Datum statusa vozila DiscreteVariable\n",
      "Status vozila (id) ContinuousVariable\n",
      "Status vozila (opis) DiscreteVariable\n",
      "Izvajalna enota prve registracije DiscreteVariable\n",
      "4A-Registrsko obmocje tablice prve registracije DiscreteVariable\n",
      "4A-Podvrsta tablice prve registracije DiscreteVariable\n",
      "C-Starost uporabnika vozila ContinuousVariable\n",
      "C-Ali je uporabnik pravna ali fizicna oseba DiscreteVariable\n",
      "C-Spol uporabnika (ce gre za fizicno osebo) DiscreteVariable\n",
      "C-Ali je uporabnik tudi lastnik vozila DiscreteVariable\n",
      "C1.3-Upravna enota uporabnika vozila (oznaka) ContinuousVariable\n",
      "C1.3-Upravna enota uporabnika vozila (opis) DiscreteVariable\n",
      "C1.3-Obcina uporabnika vozila (oznaka) ContinuousVariable\n",
      "C1.3-Obcina uporabnika vozila (opis) DiscreteVariable\n",
      "C2-Starost lastnika vozila ContinuousVariable\n",
      "C2-Ali je lastnik pravna ali fizicna oseba DiscreteVariable\n",
      "C2-Spol lastnika (ce gre za fizicno osebo) DiscreteVariable\n",
      "D.1-Znamka DiscreteVariable\n",
      "D.4.2-Drzava (opis) DiscreteVariable\n",
      "D.4.2-Drzava (koda) DiscreteVariable\n",
      "E.1-Identifikacijska koda DiscreteVariable\n",
      "F.1-Najvecja tehnicno dovoljena masa vozila ContinuousVariable\n",
      "F.2-Najvecja dovoljena masa vozila pri registraciji ContinuousVariable\n",
      "F.3-Najvecja dovoljena masa skupine vozil pri registraciji ContinuousVariable\n",
      "G-Masa vozila ContinuousVariable\n",
      "J-Kategorija in vrsta vozila (oznaka) DiscreteVariable\n",
      "J-Kategorija in vrsta vozila (opis) DiscreteVariable\n",
      "L-Stevilo osi ContinuousVariable\n",
      "M.1-Zadnji previs ContinuousVariable\n",
      "O.1.1-Priklopnik ContinuousVariable\n",
      "O.1.2-Polpriklopnik ContinuousVariable\n",
      "O.1.3-Priklopnik s centralno osjo ContinuousVariable\n",
      "O.2-Nezavirano priklopno vozilo ContinuousVariable\n",
      "O.3-Navpicna obremenitev vlecne naprave / sedla ContinuousVariable\n",
      "P.1.1-Delovna prostornina ContinuousVariable\n",
      "P.1.2-Nazivna moc ContinuousVariable\n",
      "P.1.3-Vrsta goriva (opis) DiscreteVariable\n",
      "P.1.3-Vrsta goriva (oznaka) DiscreteVariable\n",
      "P.1.4-Nazivna vrtilna frekvenca ContinuousVariable\n",
      "P.2.2-Nazivna trajna moc ContinuousVariable\n",
      "P.2.3-Delovna napetost ContinuousVariable\n",
      "Q-Razmerje moc/masa (samo za motorna kolesa) ContinuousVariable\n",
      "R-Barva vozila (oznaka) DiscreteVariable\n",
      "R-Barva vozila (opis) DiscreteVariable\n",
      "S.1-Stevilo sedezev (vkljucno z vozniskim) ContinuousVariable\n",
      "S.2-Stevilo stojisc ContinuousVariable\n",
      "T-Najvisja hitrost ContinuousVariable\n",
      "U.1-V mirovanju ContinuousVariable\n",
      "U.2-Pri vrtilni frekvenci motorja ContinuousVariable\n",
      "U.3-V voznji ContinuousVariable\n",
      "V.1-CO ContinuousVariable\n",
      "V.10.1-Vsebina CO ContinuousVariable\n",
      "V.11.1-Vsebina CO ContinuousVariable\n",
      "V.11.2-Vrednost Lambda ContinuousVariable\n",
      "V.2-HC ContinuousVariable\n",
      "V.3-Nox ContinuousVariable\n",
      "V.4-HC + Nox ContinuousVariable\n",
      "V.5-Delci pri dizel motorjih ContinuousVariable\n",
      "V.6-Korigiran absorpcijski koeficient pri dizel motorjih ContinuousVariable\n",
      "V.6.2-Najvisja vrtilna frekvenca motorja ContinuousVariable\n",
      "V.7-CO2 ContinuousVariable\n",
      "V.8-Kombinirana poraba goriva ContinuousVariable\n",
      "V.9-Podatek o okoljevarstveni kategoriji vozila DiscreteVariable\n",
      "X-Oblika nadgradnje (oznaka) DiscreteVariable\n",
      "X-Oblika nadgradnje (opis) DiscreteVariable\n",
      "X.1-Dodatni opis nadgradnje DiscreteVariable\n",
      "X.2-Homologacijska oznaka zascitne konstrukcije DiscreteVariable\n",
      "Y.1-Dolzina ContinuousVariable\n",
      "Y.2-Sirina ContinuousVariable\n",
      "Y.3-Visina ContinuousVariable\n",
      "Z.2.1-D Ð vrednost DiscreteVariable\n",
      "Datum izdaje potrdila o skladnosti DiscreteVariable\n",
      "Pogonska os z zracnim vzmetenjem ali priznanim ekvivalentom DiscreteVariable\n",
      "5A-Leto izdelave ContinuousVariable\n"
     ]
    }
   ],
   "source": [
    "for column in table012018.domain.variables:\n",
    "    print(column, type(column))"
   ]
  }
 ],
 "metadata": {
  "kernelspec": {
   "display_name": "Python 3",
   "language": "python",
   "name": "python3"
  },
  "language_info": {
   "codemirror_mode": {
    "name": "ipython",
    "version": 3
   },
   "file_extension": ".py",
   "mimetype": "text/x-python",
   "name": "python",
   "nbconvert_exporter": "python",
   "pygments_lexer": "ipython3",
   "version": "3.6.4"
  }
 },
 "nbformat": 4,
 "nbformat_minor": 2
}
